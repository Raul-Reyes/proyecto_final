{
 "cells": [
  {
   "cell_type": "markdown",
   "metadata": {},
   "source": [
    "Hamiltoniano:\n",
    "\n",
    "$$ H = - \\sum_{\\langle i, j \\rangle} J s_i s_j - \\sum_{i}(H(t) + h_i)s_i $$"
   ]
  },
  {
   "cell_type": "markdown",
   "metadata": {},
   "source": [
    "El campo aleatorio se saca de la distribución:\n",
    "\n",
    "$$ P(h) =  \\frac{1}{\\sqrt{2 \\pi} R} e^{-h^2/2R^2} $$"
   ]
  },
  {
   "cell_type": "code",
   "execution_count": 1,
   "metadata": {
    "collapsed": true
   },
   "outputs": [],
   "source": [
    "type MicroEstado\n",
    "    σ::Array{Int,2}\n",
    "    h::Array{Float64,2}\n",
    "    #Vamos a suponer que todas las configuraciones son cuadradas\n",
    "    L::Int\n",
    "end"
   ]
  },
  {
   "cell_type": "code",
   "execution_count": 2,
   "metadata": {
    "collapsed": false
   },
   "outputs": [
    {
     "data": {
      "text/plain": [
       "show (generic function with 91 methods)"
      ]
     },
     "execution_count": 2,
     "metadata": {},
     "output_type": "execute_result"
    }
   ],
   "source": [
    "import Base.show \n",
    "\n",
    "show(io::IO, m::MicroEstado) = print(io, m.σ)"
   ]
  },
  {
   "cell_type": "code",
   "execution_count": 3,
   "metadata": {
    "collapsed": false
   },
   "outputs": [
    {
     "data": {
      "text/plain": [
       "edo_inicial (generic function with 1 method)"
      ]
     },
     "execution_count": 3,
     "metadata": {},
     "output_type": "execute_result"
    }
   ],
   "source": [
    "function edo_inicial(L::Int)\n",
    "    σ = -ones(Int, (L,L))\n",
    "    \n",
    "    h = Array(Float64, (L,L))\n",
    "    for i in 1:L^2\n",
    "        # Temporal, hay que cambiar la distribución\n",
    "        h[i] = randn()\n",
    "    end\n",
    "        \n",
    "    MicroEstado(σ, h, L)\n",
    "end"
   ]
  },
  {
   "cell_type": "code",
   "execution_count": 6,
   "metadata": {
    "collapsed": false
   },
   "outputs": [
    {
     "data": {
      "text/plain": [
       "10x10 Array{Int64,2}:\n",
       " -1  -1  -1  -1  -1  -1  -1  -1  -1  -1\n",
       " -1  -1  -1  -1  -1  -1  -1  -1  -1  -1\n",
       " -1  -1  -1  -1  -1  -1  -1  -1  -1  -1\n",
       " -1  -1  -1  -1  -1  -1  -1  -1  -1  -1\n",
       " -1  -1  -1  -1  -1  -1  -1  -1  -1  -1\n",
       " -1  -1  -1  -1  -1  -1  -1  -1  -1  -1\n",
       " -1  -1  -1  -1  -1  -1  -1  -1  -1  -1\n",
       " -1  -1  -1  -1  -1  -1  -1  -1  -1  -1\n",
       " -1  -1  -1  -1  -1  -1  -1  -1  -1  -1\n",
       " -1  -1  -1  -1  -1  -1  -1  -1  -1  -1"
      ]
     },
     "execution_count": 6,
     "metadata": {},
     "output_type": "execute_result"
    }
   ],
   "source": [
    "m = edo_inicial(10)"
   ]
  },
  {
   "cell_type": "code",
   "execution_count": 5,
   "metadata": {
    "collapsed": false
   },
   "outputs": [
    {
     "data": {
      "text/plain": [
       "energia_espin_i (generic function with 1 method)"
      ]
     },
     "execution_count": 5,
     "metadata": {},
     "output_type": "execute_result"
    }
   ],
   "source": [
    "function energia_espin_i(m::MicroEstado, i::Int, j::Int)\n",
    "    σ = m.σ\n",
    "    -( σ[mod1(i-1, m.L),j] + σ[mod1(i+1, m.L),j] + σ[i,mod1(j-1, m.L)] + σ[i,mod1(j+1, m.L)] ) + m.h[i,j]\n",
    "end"
   ]
  },
  {
   "cell_type": "code",
   "execution_count": 12,
   "metadata": {
    "collapsed": false
   },
   "outputs": [
    {
     "data": {
      "text/plain": [
       "4.724997629364646"
      ]
     },
     "execution_count": 12,
     "metadata": {},
     "output_type": "execute_result"
    }
   ],
   "source": [
    "energia_espin_i(m, 2,5)"
   ]
  },
  {
   "cell_type": "code",
   "execution_count": 19,
   "metadata": {
    "collapsed": false
   },
   "outputs": [
    {
     "data": {
      "text/plain": [
       "5.340379797482296"
      ]
     },
     "execution_count": 19,
     "metadata": {},
     "output_type": "execute_result"
    }
   ],
   "source": [
    "energia_espin_i(m, 1,2)"
   ]
  },
  {
   "cell_type": "code",
   "execution_count": 18,
   "metadata": {
    "collapsed": false
   },
   "outputs": [
    {
     "data": {
      "text/plain": [
       "10x10 Array{Float64,2}:\n",
       "  0.787732    1.34038    1.48847   …  -2.07517     -0.600912   0.340704\n",
       "  0.746587    0.351632   0.440872     -1.86993      0.115681  -0.313012\n",
       "  0.3112     -0.920747  -0.173771      1.35493     -0.896461   0.599226\n",
       "  0.150647   -1.67154   -1.65472       0.00648182  -0.276334  -0.186361\n",
       "  0.186192    0.754865  -0.968733     -0.628237     1.04228    0.827332\n",
       " -0.880839    1.16247    1.03042   …  -0.718634    -0.642421   0.963593\n",
       " -0.644402    0.140057   1.59352       0.414329    -0.36472   -0.35114 \n",
       " -1.22809     1.73991    1.01356      -1.31425      1.23936   -0.456742\n",
       " -0.0482683   0.373143   0.660866     -1.61864     -0.355691   0.680672\n",
       "  0.189958    0.675474  -0.39646      -1.1258       1.04777    1.81343 "
      ]
     },
     "execution_count": 18,
     "metadata": {},
     "output_type": "execute_result"
    }
   ],
   "source": [
    "m.h"
   ]
  },
  {
   "cell_type": "code",
   "execution_count": null,
   "metadata": {
    "collapsed": true
   },
   "outputs": [],
   "source": []
  }
 ],
 "metadata": {
  "kernelspec": {
   "display_name": "Julia 0.3.6",
   "language": "julia",
   "name": "julia 0.3"
  },
  "language_info": {
   "name": "julia",
   "version": "0.3.6"
  }
 },
 "nbformat": 4,
 "nbformat_minor": 0
}
